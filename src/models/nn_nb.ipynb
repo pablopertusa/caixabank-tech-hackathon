{
 "cells": [
  {
   "cell_type": "code",
   "execution_count": 24,
   "metadata": {},
   "outputs": [],
   "source": [
    "import tensorflow as tf\n",
    "import pandas as pd\n",
    "import json\n",
    "from tensorflow.keras import layers, models, optimizers\n",
    "from tensorflow import keras\n",
    "from sklearn.utils import class_weight\n",
    "from sklearn.model_selection import train_test_split\n",
    "from sklearn.metrics import classification_report\n",
    "import numpy as np\n",
    "from sklearn.preprocessing import LabelEncoder"
   ]
  },
  {
   "cell_type": "code",
   "execution_count": null,
   "metadata": {},
   "outputs": [
    {
     "name": "stdout",
     "output_type": "stream",
     "text": [
      "GPU disponible: [PhysicalDevice(name='/physical_device:GPU:0', device_type='GPU')]\n"
     ]
    }
   ],
   "source": [
    "with open('/home/pablo/Desktop/side/caixabank-tech-hackathon/data/raw/columns_datatypes.json', 'r') as f:\n",
    "    types = json.load(f)\n",
    "\n",
    "df = pd.read_csv('/home/pablo/Desktop/side/caixabank-tech-hackathon/data/raw/train_downcasted.csv', dtype=types)\n",
    "print(\"GPU disponible:\", tf.config.list_physical_devices('GPU'))"
   ]
  },
  {
   "cell_type": "code",
   "execution_count": 32,
   "metadata": {},
   "outputs": [],
   "source": [
    "X = df.drop(columns=['label', 'Unnamed: 0'])\n",
    "y = df['label']\n",
    "\n",
    "encoder = LabelEncoder()\n",
    "y = encoder.fit_transform(y)\n",
    "\n",
    "X_train, X_test, y_train, y_test = train_test_split(X, y, test_size=0.15, random_state=27)\n",
    "\n",
    "num_features = len(df.columns)-2\n",
    "model = models.Sequential([\n",
    "        keras.Input(shape=(num_features,)),\n",
    "        layers.Dense(128, activation='relu'),\n",
    "        layers.Dense(64, activation='relu'),\n",
    "        layers.Dense(16, activation='relu'),\n",
    "        layers.Dense(1, activation='sigmoid')  # Salida para clasificación binaria (si fuese multiclase softmax)\n",
    "    ])"
   ]
  },
  {
   "cell_type": "code",
   "execution_count": 33,
   "metadata": {},
   "outputs": [],
   "source": [
    "optim = optimizers.SGD(learning_rate = 0.001)\n",
    "\n",
    "model.compile(optimizer = optim, \n",
    "                  loss='binary_crossentropy', \n",
    "                  metrics=['accuracy', tf.keras.metrics.AUC()])\n",
    "\n",
    "class_weights = class_weight.compute_class_weight(class_weight='balanced', classes=np.unique(y_train), y=y_train)\n",
    "class_weights_dict = {'Yes': class_weights[1], 'No': class_weights[0]}\n"
   ]
  },
  {
   "cell_type": "code",
   "execution_count": 39,
   "metadata": {},
   "outputs": [
    {
     "name": "stdout",
     "output_type": "stream",
     "text": [
      "Epoch 1/10\n"
     ]
    },
    {
     "name": "stderr",
     "output_type": "stream",
     "text": [
      "2024-11-10 02:19:15.692807: I external/local_xla/xla/stream_executor/cuda/cuda_asm_compiler.cc:397] ptxas warning : Registers are spilled to local memory in function 'gemm_fusion_dot_64', 12 bytes spill stores, 12 bytes spill loads\n",
      "\n",
      "2024-11-10 02:19:15.897440: I external/local_xla/xla/stream_executor/cuda/cuda_asm_compiler.cc:397] ptxas warning : Registers are spilled to local memory in function 'gemm_fusion_dot_64', 44 bytes spill stores, 44 bytes spill loads\n",
      "\n",
      "2024-11-10 02:19:16.313924: I external/local_xla/xla/stream_executor/cuda/cuda_asm_compiler.cc:397] ptxas warning : Registers are spilled to local memory in function 'gemm_fusion_dot_336', 8 bytes spill stores, 8 bytes spill loads\n",
      "\n",
      "2024-11-10 02:19:16.326372: I external/local_xla/xla/stream_executor/cuda/cuda_asm_compiler.cc:397] ptxas warning : Registers are spilled to local memory in function 'gemm_fusion_dot_336', 72 bytes spill stores, 72 bytes spill loads\n",
      "\n",
      "2024-11-10 02:19:16.895058: I external/local_xla/xla/stream_executor/cuda/cuda_asm_compiler.cc:397] ptxas warning : Registers are spilled to local memory in function 'gemm_fusion_dot_336', 4 bytes spill stores, 4 bytes spill loads\n",
      "\n",
      "2024-11-10 02:19:16.910656: I external/local_xla/xla/stream_executor/cuda/cuda_asm_compiler.cc:397] ptxas warning : Registers are spilled to local memory in function 'gemm_fusion_dot_336', 432 bytes spill stores, 432 bytes spill loads\n",
      "\n",
      "2024-11-10 02:19:16.952682: I external/local_xla/xla/stream_executor/cuda/cuda_asm_compiler.cc:397] ptxas warning : Registers are spilled to local memory in function 'gemm_fusion_dot_338', 60 bytes spill stores, 60 bytes spill loads\n",
      "\n",
      "2024-11-10 02:19:17.407153: I external/local_xla/xla/stream_executor/cuda/cuda_asm_compiler.cc:397] ptxas warning : Registers are spilled to local memory in function 'gemm_fusion_dot_338', 16 bytes spill stores, 16 bytes spill loads\n",
      "\n",
      "2024-11-10 02:19:18.078090: I external/local_xla/xla/stream_executor/cuda/cuda_asm_compiler.cc:397] ptxas warning : Registers are spilled to local memory in function 'gemm_fusion_dot_338_0', 72 bytes spill stores, 68 bytes spill loads\n",
      "\n",
      "2024-11-10 02:19:18.190515: I external/local_xla/xla/stream_executor/cuda/cuda_asm_compiler.cc:397] ptxas warning : Registers are spilled to local memory in function 'gemm_fusion_dot_340', 560 bytes spill stores, 564 bytes spill loads\n",
      "\n",
      "2024-11-10 02:19:18.357670: I external/local_xla/xla/stream_executor/cuda/cuda_asm_compiler.cc:397] ptxas warning : Registers are spilled to local memory in function 'gemm_fusion_dot_338_0', 24 bytes spill stores, 36 bytes spill loads\n",
      "\n",
      "2024-11-10 02:19:18.419997: I external/local_xla/xla/stream_executor/cuda/cuda_asm_compiler.cc:397] ptxas warning : Registers are spilled to local memory in function 'gemm_fusion_dot_336_0', 756 bytes spill stores, 788 bytes spill loads\n",
      "\n",
      "2024-11-10 02:19:18.741781: I external/local_xla/xla/stream_executor/cuda/cuda_asm_compiler.cc:397] ptxas warning : Registers are spilled to local memory in function 'gemm_fusion_dot_338', 560 bytes spill stores, 564 bytes spill loads\n",
      "\n",
      "2024-11-10 02:19:18.761774: I external/local_xla/xla/stream_executor/cuda/cuda_asm_compiler.cc:397] ptxas warning : Registers are spilled to local memory in function 'gemm_fusion_dot_336', 1840 bytes spill stores, 1588 bytes spill loads\n",
      "\n",
      "2024-11-10 02:19:18.809734: I external/local_xla/xla/stream_executor/cuda/cuda_asm_compiler.cc:397] ptxas warning : Registers are spilled to local memory in function 'gemm_fusion_dot_338', 2036 bytes spill stores, 1780 bytes spill loads\n",
      "\n",
      "2024-11-10 02:19:18.943524: I external/local_xla/xla/stream_executor/cuda/cuda_asm_compiler.cc:397] ptxas warning : Registers are spilled to local memory in function 'gemm_fusion_dot_336_0', 80 bytes spill stores, 80 bytes spill loads\n",
      "\n"
     ]
    },
    {
     "name": "stdout",
     "output_type": "stream",
     "text": [
      "\u001b[1m256/274\u001b[0m \u001b[32m━━━━━━━━━━━━━━━━━━\u001b[0m\u001b[37m━━\u001b[0m \u001b[1m0s\u001b[0m 2ms/step - accuracy: 0.9988 - auc_4: 0.4880 - loss: 0.0171"
     ]
    },
    {
     "name": "stderr",
     "output_type": "stream",
     "text": [
      "2024-11-10 02:19:21.856805: I external/local_xla/xla/stream_executor/cuda/cuda_asm_compiler.cc:397] ptxas warning : Registers are spilled to local memory in function 'gemm_fusion_dot_64', 12 bytes spill stores, 12 bytes spill loads\n",
      "\n",
      "2024-11-10 02:19:22.189441: I external/local_xla/xla/stream_executor/cuda/cuda_asm_compiler.cc:397] ptxas warning : Registers are spilled to local memory in function 'gemm_fusion_dot_336', 428 bytes spill stores, 428 bytes spill loads\n",
      "\n",
      "2024-11-10 02:19:22.298435: I external/local_xla/xla/stream_executor/cuda/cuda_asm_compiler.cc:397] ptxas warning : Registers are spilled to local memory in function 'gemm_fusion_dot_64', 44 bytes spill stores, 44 bytes spill loads\n",
      "\n",
      "2024-11-10 02:19:22.449123: I external/local_xla/xla/stream_executor/cuda/cuda_asm_compiler.cc:397] ptxas warning : Registers are spilled to local memory in function 'gemm_fusion_dot_338', 40 bytes spill stores, 40 bytes spill loads\n",
      "\n",
      "2024-11-10 02:19:23.843038: I external/local_xla/xla/stream_executor/cuda/cuda_asm_compiler.cc:397] ptxas warning : Registers are spilled to local memory in function 'gemm_fusion_dot_336_0', 692 bytes spill stores, 648 bytes spill loads\n",
      "\n",
      "2024-11-10 02:19:23.921247: I external/local_xla/xla/stream_executor/cuda/cuda_asm_compiler.cc:397] ptxas warning : Registers are spilled to local memory in function 'gemm_fusion_dot_338', 20 bytes spill stores, 28 bytes spill loads\n",
      "\n",
      "2024-11-10 02:19:23.962219: I external/local_xla/xla/stream_executor/cuda/cuda_asm_compiler.cc:397] ptxas warning : Registers are spilled to local memory in function 'gemm_fusion_dot_336_0', 80 bytes spill stores, 80 bytes spill loads\n",
      "\n",
      "2024-11-10 02:19:24.189753: I external/local_xla/xla/stream_executor/cuda/cuda_asm_compiler.cc:397] ptxas warning : Registers are spilled to local memory in function 'gemm_fusion_dot_336', 88 bytes spill stores, 88 bytes spill loads\n",
      "\n",
      "2024-11-10 02:19:24.254323: I external/local_xla/xla/stream_executor/cuda/cuda_asm_compiler.cc:397] ptxas warning : Registers are spilled to local memory in function 'gemm_fusion_dot_338_0', 64 bytes spill stores, 64 bytes spill loads\n",
      "\n",
      "2024-11-10 02:19:24.553659: I external/local_xla/xla/stream_executor/cuda/cuda_asm_compiler.cc:397] ptxas warning : Registers are spilled to local memory in function 'gemm_fusion_dot_340', 468 bytes spill stores, 472 bytes spill loads\n",
      "\n",
      "2024-11-10 02:19:24.705428: I external/local_xla/xla/stream_executor/cuda/cuda_asm_compiler.cc:397] ptxas warning : Registers are spilled to local memory in function 'gemm_fusion_dot_336', 1656 bytes spill stores, 1564 bytes spill loads\n",
      "\n",
      "2024-11-10 02:19:24.862029: I external/local_xla/xla/stream_executor/cuda/cuda_asm_compiler.cc:397] ptxas warning : Registers are spilled to local memory in function 'gemm_fusion_dot_338', 468 bytes spill stores, 472 bytes spill loads\n",
      "\n",
      "2024-11-10 02:19:25.099545: I external/local_xla/xla/stream_executor/cuda/cuda_asm_compiler.cc:397] ptxas warning : Registers are spilled to local memory in function 'gemm_fusion_dot_338', 1796 bytes spill stores, 1776 bytes spill loads\n",
      "\n"
     ]
    },
    {
     "name": "stdout",
     "output_type": "stream",
     "text": [
      "\u001b[1m274/274\u001b[0m \u001b[32m━━━━━━━━━━━━━━━━━━━━\u001b[0m\u001b[37m\u001b[0m \u001b[1m0s\u001b[0m 22ms/step - accuracy: 0.9988 - auc_4: 0.4884 - loss: 0.0170"
     ]
    },
    {
     "name": "stderr",
     "output_type": "stream",
     "text": [
      "2024-11-10 02:19:27.715982: I external/local_xla/xla/stream_executor/cuda/cuda_asm_compiler.cc:397] ptxas warning : Registers are spilled to local memory in function 'gemm_fusion_dot_53', 12 bytes spill stores, 12 bytes spill loads\n",
      "\n",
      "2024-11-10 02:19:27.888601: I external/local_xla/xla/stream_executor/cuda/cuda_asm_compiler.cc:397] ptxas warning : Registers are spilled to local memory in function 'gemm_fusion_dot_53', 44 bytes spill stores, 44 bytes spill loads\n",
      "\n"
     ]
    },
    {
     "name": "stdout",
     "output_type": "stream",
     "text": [
      "\u001b[1m274/274\u001b[0m \u001b[32m━━━━━━━━━━━━━━━━━━━━\u001b[0m\u001b[37m\u001b[0m \u001b[1m13s\u001b[0m 31ms/step - accuracy: 0.9988 - auc_4: 0.4885 - loss: 0.0170 - val_accuracy: 0.9988 - val_auc_4: 0.4874 - val_loss: 0.0164\n",
      "Epoch 2/10\n",
      "\u001b[1m274/274\u001b[0m \u001b[32m━━━━━━━━━━━━━━━━━━━━\u001b[0m\u001b[37m\u001b[0m \u001b[1m1s\u001b[0m 3ms/step - accuracy: 0.9988 - auc_4: 0.4976 - loss: 0.0166 - val_accuracy: 0.9988 - val_auc_4: 0.4848 - val_loss: 0.0164\n",
      "Epoch 3/10\n",
      "\u001b[1m274/274\u001b[0m \u001b[32m━━━━━━━━━━━━━━━━━━━━\u001b[0m\u001b[37m\u001b[0m \u001b[1m1s\u001b[0m 3ms/step - accuracy: 0.9988 - auc_4: 0.4952 - loss: 0.0169 - val_accuracy: 0.9988 - val_auc_4: 0.4841 - val_loss: 0.0164\n",
      "Epoch 4/10\n",
      "\u001b[1m274/274\u001b[0m \u001b[32m━━━━━━━━━━━━━━━━━━━━\u001b[0m\u001b[37m\u001b[0m \u001b[1m1s\u001b[0m 3ms/step - accuracy: 0.9988 - auc_4: 0.4933 - loss: 0.0168 - val_accuracy: 0.9988 - val_auc_4: 0.4877 - val_loss: 0.0163\n",
      "Epoch 5/10\n",
      "\u001b[1m274/274\u001b[0m \u001b[32m━━━━━━━━━━━━━━━━━━━━\u001b[0m\u001b[37m\u001b[0m \u001b[1m1s\u001b[0m 3ms/step - accuracy: 0.9988 - auc_4: 0.4933 - loss: 0.0167 - val_accuracy: 0.9988 - val_auc_4: 0.4860 - val_loss: 0.0163\n",
      "Epoch 6/10\n",
      "\u001b[1m274/274\u001b[0m \u001b[32m━━━━━━━━━━━━━━━━━━━━\u001b[0m\u001b[37m\u001b[0m \u001b[1m1s\u001b[0m 3ms/step - accuracy: 0.9988 - auc_4: 0.4982 - loss: 0.0168 - val_accuracy: 0.9988 - val_auc_4: 0.4862 - val_loss: 0.0163\n",
      "Epoch 7/10\n",
      "\u001b[1m274/274\u001b[0m \u001b[32m━━━━━━━━━━━━━━━━━━━━\u001b[0m\u001b[37m\u001b[0m \u001b[1m1s\u001b[0m 3ms/step - accuracy: 0.9988 - auc_4: 0.4939 - loss: 0.0168 - val_accuracy: 0.9988 - val_auc_4: 0.4860 - val_loss: 0.0163\n",
      "Epoch 8/10\n",
      "\u001b[1m274/274\u001b[0m \u001b[32m━━━━━━━━━━━━━━━━━━━━\u001b[0m\u001b[37m\u001b[0m \u001b[1m1s\u001b[0m 4ms/step - accuracy: 0.9987 - auc_4: 0.4939 - loss: 0.0170 - val_accuracy: 0.9988 - val_auc_4: 0.4868 - val_loss: 0.0163\n",
      "Epoch 9/10\n",
      "\u001b[1m274/274\u001b[0m \u001b[32m━━━━━━━━━━━━━━━━━━━━\u001b[0m\u001b[37m\u001b[0m \u001b[1m1s\u001b[0m 4ms/step - accuracy: 0.9988 - auc_4: 0.4914 - loss: 0.0171 - val_accuracy: 0.9988 - val_auc_4: 0.4867 - val_loss: 0.0163\n",
      "Epoch 10/10\n",
      "\u001b[1m274/274\u001b[0m \u001b[32m━━━━━━━━━━━━━━━━━━━━\u001b[0m\u001b[37m\u001b[0m \u001b[1m2s\u001b[0m 7ms/step - accuracy: 0.9988 - auc_4: 0.4994 - loss: 0.0163 - val_accuracy: 0.9988 - val_auc_4: 0.4840 - val_loss: 0.0163\n"
     ]
    }
   ],
   "source": [
    "history = model.fit(X_train, y_train, \n",
    "                    epochs=10, \n",
    "                    batch_size=10000, \n",
    "                    validation_data=(X_test, y_test),\n",
    "                    class_weight=class_weights_dict)"
   ]
  },
  {
   "cell_type": "code",
   "execution_count": null,
   "metadata": {},
   "outputs": [],
   "source": []
  }
 ],
 "metadata": {
  "kernelspec": {
   "display_name": "venv",
   "language": "python",
   "name": "python3"
  },
  "language_info": {
   "codemirror_mode": {
    "name": "ipython",
    "version": 3
   },
   "file_extension": ".py",
   "mimetype": "text/x-python",
   "name": "python",
   "nbconvert_exporter": "python",
   "pygments_lexer": "ipython3",
   "version": "3.12.3"
  }
 },
 "nbformat": 4,
 "nbformat_minor": 2
}
